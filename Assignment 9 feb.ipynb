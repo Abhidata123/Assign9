{
 "cells": [
  {
   "cell_type": "code",
   "execution_count": 1,
   "id": "1d2e8046-0df2-4935-8fc1-539da9ce6a43",
   "metadata": {},
   "outputs": [],
   "source": [
    "# Q1, Create a vehicle class with an init method having instance variables as name_of_vehicle, max_speed\n",
    "# and average_of_vehicle."
   ]
  },
  {
   "cell_type": "code",
   "execution_count": 10,
   "id": "26000de9-e221-4f8a-b6c1-cafab317ef22",
   "metadata": {},
   "outputs": [],
   "source": [
    "class Vehicle:\n",
    "    def __init__(self, name_of_vehicle, max_speed, average_of_vehicle):\n",
    "        self.vehicle_name = name_of_vehicle\n",
    "        self.max_speed = max_speed\n",
    "        self.average_speed = average_of_vehicle\n",
    "    \n",
    "\n",
    "\n",
    "        "
   ]
  },
  {
   "cell_type": "code",
   "execution_count": 11,
   "id": "b9a900bd-b71e-4337-b3aa-15e82c856de9",
   "metadata": {},
   "outputs": [],
   "source": [
    "B = Vehicle(\"School Volvo\", 150, 45)"
   ]
  },
  {
   "cell_type": "code",
   "execution_count": 13,
   "id": "b2e9bf16-6beb-4fbc-8eb1-426320cc037b",
   "metadata": {},
   "outputs": [
    {
     "data": {
      "text/plain": [
       "'School Volvo'"
      ]
     },
     "execution_count": 13,
     "metadata": {},
     "output_type": "execute_result"
    }
   ],
   "source": [
    "B.vehicle_name"
   ]
  },
  {
   "cell_type": "code",
   "execution_count": 14,
   "id": "ab0b9a95-d4c7-44ec-8fa7-ea19e6d58ef8",
   "metadata": {},
   "outputs": [
    {
     "data": {
      "text/plain": [
       "150"
      ]
     },
     "execution_count": 14,
     "metadata": {},
     "output_type": "execute_result"
    }
   ],
   "source": [
    "B.max_speed"
   ]
  },
  {
   "cell_type": "code",
   "execution_count": 15,
   "id": "0d9d02f8-cc78-4bf5-b6c5-745a82203c67",
   "metadata": {},
   "outputs": [
    {
     "data": {
      "text/plain": [
       "45"
      ]
     },
     "execution_count": 15,
     "metadata": {},
     "output_type": "execute_result"
    }
   ],
   "source": [
    "B.average_speed"
   ]
  },
  {
   "cell_type": "code",
   "execution_count": 16,
   "id": "a96e8ffa-6d96-48c3-903a-0822bbf2565c",
   "metadata": {},
   "outputs": [],
   "source": [
    "# Q2. Create a child class car from the vehicle class created in Que 1, which will inherit the vehicle class.\n",
    "# Create a method named seating_capacity which takes capacity as an argument and returns the name of\n",
    "# the vehicle and its seating capacity."
   ]
  },
  {
   "cell_type": "code",
   "execution_count": 37,
   "id": "d7d85e0d-f010-4537-8a27-a70dfefddcb0",
   "metadata": {},
   "outputs": [],
   "source": [
    "class Vehicle:\n",
    "    def __init__(self, name_of_vehicle, max_speed, average_of_vehicle):\n",
    "        self.vehicle_name = name_of_vehicle\n",
    "        self.max_speed = max_speed\n",
    "        self.average_speed = average_of_vehicle\n",
    "        \n",
    "        \n",
    "class Car(Vehicle):\n",
    "    def seating_capacity(self, capacity):\n",
    "        self.capacity = capacity\n",
    "        \n",
    "        \n",
    "    "
   ]
  },
  {
   "cell_type": "code",
   "execution_count": 39,
   "id": "8f6b04e6-2f1c-4553-ad8f-d7c763dadf90",
   "metadata": {},
   "outputs": [],
   "source": [
    "k = Car(\"Volvo\", 200, 50)"
   ]
  },
  {
   "cell_type": "code",
   "execution_count": 42,
   "id": "ea9f9d23-cc7b-4372-8768-f0f8c6f8ad46",
   "metadata": {},
   "outputs": [],
   "source": [
    "k.seating_capacity(50)"
   ]
  },
  {
   "cell_type": "code",
   "execution_count": 46,
   "id": "4efa1ab6-9b5b-47df-93a4-3e407d33f687",
   "metadata": {},
   "outputs": [
    {
     "data": {
      "text/plain": [
       "50"
      ]
     },
     "execution_count": 46,
     "metadata": {},
     "output_type": "execute_result"
    }
   ],
   "source": [
    "k.average_speed"
   ]
  },
  {
   "cell_type": "code",
   "execution_count": 47,
   "id": "17222b73-caf2-43d1-8059-1d2e6e185f68",
   "metadata": {},
   "outputs": [
    {
     "data": {
      "text/plain": [
       "50"
      ]
     },
     "execution_count": 47,
     "metadata": {},
     "output_type": "execute_result"
    }
   ],
   "source": [
    "k.capacity"
   ]
  },
  {
   "cell_type": "code",
   "execution_count": 48,
   "id": "c6740bf1-9770-47c7-b824-17a6f7fd44ae",
   "metadata": {},
   "outputs": [
    {
     "data": {
      "text/plain": [
       "200"
      ]
     },
     "execution_count": 48,
     "metadata": {},
     "output_type": "execute_result"
    }
   ],
   "source": [
    "k.max_speed"
   ]
  },
  {
   "cell_type": "code",
   "execution_count": 49,
   "id": "471ea8eb-e2d6-4d10-b68c-58e7e2829b5c",
   "metadata": {},
   "outputs": [
    {
     "data": {
      "text/plain": [
       "'Volvo'"
      ]
     },
     "execution_count": 49,
     "metadata": {},
     "output_type": "execute_result"
    }
   ],
   "source": [
    "k.vehicle_name"
   ]
  },
  {
   "cell_type": "code",
   "execution_count": 50,
   "id": "ca417cc3-0565-4349-b04d-a89d782bef39",
   "metadata": {},
   "outputs": [],
   "source": [
    "# Q.3: Q3. What is multiple inheritance? Write a python code to demonstrate multiple inheritance."
   ]
  },
  {
   "cell_type": "code",
   "execution_count": 53,
   "id": "740d0e53-affe-4bc2-9aa3-8b69406c5efb",
   "metadata": {},
   "outputs": [
    {
     "name": "stdout",
     "output_type": "stream",
     "text": [
      "This is the base class 1\n",
      "This is the base class 2\n",
      "It has both the features of base class 1 and 2\n"
     ]
    }
   ],
   "source": [
    "# Ans: When a class is derived from more than one base class it is called multiple Inheritance. The derived class inherits all the features of the base case.\n",
    "\n",
    "class Base1:\n",
    "    print(\"This is the base class 1\")\n",
    "\n",
    "class Base2:\n",
    "    print(\"This is the base class 2\")\n",
    "\n",
    "class Derived(Base1, Base2):\n",
    "    print(\"It has both the features of base class 1 and 2\")  "
   ]
  },
  {
   "cell_type": "code",
   "execution_count": 54,
   "id": "2ac57b67-958b-4af7-8307-5506abd1690a",
   "metadata": {},
   "outputs": [],
   "source": [
    "# Q. 4: Q4. What are getter and setter in python? Create a class and create a getter and a setter method in this\n",
    "# class."
   ]
  },
  {
   "cell_type": "code",
   "execution_count": 64,
   "id": "da7cb25a-13a0-437d-9751-8178ae378dd0",
   "metadata": {},
   "outputs": [
    {
     "name": "stdout",
     "output_type": "stream",
     "text": [
      "setter method called\n",
      "getter method called\n",
      "10\n"
     ]
    }
   ],
   "source": [
    "# Ans. the main purpose of using getters and setters in object-oriented programs is to ensure data encapsulation.\n",
    "# We use getters & setters to add validation logic around getting and setting a value.\n",
    "# To avoid direct access of a class field i.e. private variables cannot be accessed directly or modified by external user.\n",
    "\n",
    "# Python program showing a\n",
    "# use of property() function\n",
    "  \n",
    "class Geeks:\n",
    "    def __init__(self):\n",
    "        self._age = 0\n",
    "       \n",
    "     # function to get value of _age\n",
    "    def get_age(self):\n",
    "        print(\"getter method called\")\n",
    "        return self._age\n",
    "       \n",
    "     # function to set value of _age\n",
    "    def set_age(self, a):\n",
    "        print(\"setter method called\")\n",
    "        self._age = a\n",
    "  \n",
    "     # function to delete _age attribute\n",
    "    def del_age(self):\n",
    "            del self._age\n",
    "     \n",
    "    age = property(get_age, set_age, del_age) \n",
    "mark = Geeks()\n",
    "mark.age = 10\n",
    "print(mark.age)"
   ]
  },
  {
   "cell_type": "code",
   "execution_count": 65,
   "id": "0c19337a-e286-4763-bdb5-36aac22b50c3",
   "metadata": {},
   "outputs": [
    {
     "name": "stdout",
     "output_type": "stream",
     "text": [
      "21\n",
      "21\n"
     ]
    }
   ],
   "source": [
    "class Geek:\n",
    "    def __init__(self, age = 0):\n",
    "         self._age = age\n",
    "      \n",
    "    # getter method\n",
    "    def get_age(self):\n",
    "        return self._age\n",
    "      \n",
    "    # setter method\n",
    "    def set_age(self, x):\n",
    "        self._age = x\n",
    "raj = Geek()\n",
    "  \n",
    "# setting the age using setter\n",
    "raj.set_age(21)\n",
    "  \n",
    "# retrieving age using getter\n",
    "print(raj.get_age())\n",
    "  \n",
    "print(raj._age)"
   ]
  },
  {
   "cell_type": "code",
   "execution_count": 66,
   "id": "d91d09d1-51d3-44fb-88d9-dfc6c0c4f77f",
   "metadata": {},
   "outputs": [],
   "source": [
    "# Q. 5: Q5.What is method overriding in python? Write a python code to demonstrate method overriding."
   ]
  },
  {
   "cell_type": "code",
   "execution_count": 68,
   "id": "e6db38bd-9931-49c4-8b83-2246333e82fe",
   "metadata": {},
   "outputs": [
    {
     "name": "stdout",
     "output_type": "stream",
     "text": [
      "Inside Parent\n",
      "Inside Child\n"
     ]
    }
   ],
   "source": [
    "# Ans: Method overriding is an ability of any object-oriented programming language that allows a subclass or child class to provide a specific implementation of a method that is already provided by one of its super-classes or parent classes. When a method in a subclass has the same name, same parameters or signature and same return type(or sub-type) as a method in its super-class, then the method in the subclass is said to override the method in the super-class.\n",
    "# Python program to demonstrate \n",
    "# method overriding\n",
    "  \n",
    "# Defining parent class\n",
    "class Parent():\n",
    "      \n",
    "    # Constructor\n",
    "    def __init__(self):\n",
    "        self.value = \"Inside Parent\"\n",
    "          \n",
    "    # Parent's show method\n",
    "    def show(self):\n",
    "        print(self.value)\n",
    "          \n",
    "# Defining child class\n",
    "class Child(Parent):\n",
    "      \n",
    "    # Constructor\n",
    "    def __init__(self):\n",
    "        self.value = \"Inside Child\"\n",
    "          \n",
    "    # Child's show method\n",
    "    def show(self):\n",
    "        print(self.value)\n",
    "# Driver's code\n",
    "obj1 = Parent()\n",
    "obj2 = Child()\n",
    "  \n",
    "obj1.show()\n",
    "obj2.show()"
   ]
  },
  {
   "cell_type": "code",
   "execution_count": null,
   "id": "fa50b928-e3ad-44f4-bb6a-2f08a092c6cf",
   "metadata": {},
   "outputs": [],
   "source": []
  }
 ],
 "metadata": {
  "kernelspec": {
   "display_name": "Python 3 (ipykernel)",
   "language": "python",
   "name": "python3"
  },
  "language_info": {
   "codemirror_mode": {
    "name": "ipython",
    "version": 3
   },
   "file_extension": ".py",
   "mimetype": "text/x-python",
   "name": "python",
   "nbconvert_exporter": "python",
   "pygments_lexer": "ipython3",
   "version": "3.10.8"
  }
 },
 "nbformat": 4,
 "nbformat_minor": 5
}
